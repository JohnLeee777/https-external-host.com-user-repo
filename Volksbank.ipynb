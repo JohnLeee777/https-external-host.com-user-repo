{
  "metadata": {
    "kernelspec": {
      "name": "python",
      "display_name": "Python (Pyodide)",
      "language": "python"
    },
    "language_info": {
      "codemirror_mode": {
        "name": "python",
        "version": 3
      },
      "file_extension": ".py",
      "mimetype": "text/x-python",
      "name": "python",
      "nbconvert_exporter": "python",
      "pygments_lexer": "ipython3",
      "version": "3.8"
    }
  },
  "nbformat_minor": 5,
  "nbformat": 4,
  "cells": [
    {
      "id": "4479c542-7a96-462e-9805-dde7e919d431",
      "cell_type": "code",
      "source": "# 1. EUR Swap Pricing\ndef price_swap(notional=50_000_000, benchmark_rate=2.85, bid_offer_spread=(2.84, 2.86), cva=0.03, liquidity_premium=0.02):\n    \"\"\"\n    Prices a EUR Interest Rate Swap based on benchmark rates and adjustments.\n    \n    :param notional: Swap notional amount in EUR\n    :param benchmark_rate: Mid-market benchmark rate (from Bloomberg SWPM)\n    :param bid_offer_spread: Tuple of (bid, offer) rates from interdealer brokers\n    :param cva: Credit Valuation Adjustment in basis points (bps)\n    :param liquidity_premium: Liquidity premium adjustment in basis points (bps)\n    :return: Final swap quote and execution details\n    \"\"\"\n    # Determine adjusted rate\n    mid_market_rate = (bid_offer_spread[0] + bid_offer_spread[1]) / 2  # Mid-point of bid-offer\n    adjusted_rate = mid_market_rate - (cva + liquidity_premium) / 100  # Convert bps to %\n    \n    # Final quote\n    receive_fixed_rate = adjusted_rate + 0.10  # 10 bps spread for receive fixed\n    pay_fixed_rate = adjusted_rate - 0.10  # 10 bps spread for pay fixed\n    \n    # Hedge execution\n    hedge_rate = 2.87  # Executed hedge rate\n    spread_captured = hedge_rate - adjusted_rate  # Profit spread\n    \n    return {\n        \"Final Quote\": f\"We'd pay {pay_fixed_rate:.2f}% fixed vs 6M EURIBOR, or receive {receive_fixed_rate:.2f}%. Current executable size: €{notional:,}.\",\n        \"Hedge Execution\": f\"Hedged with €{notional:,} offsetting swap at {hedge_rate:.2f}%, capturing {spread_captured:.2f}bps spread.\"\n    }\n\n# Run the pricing function\nresult = price_swap()\nfor key, value in result.items():\n    print(f\"{key}: {value}\")\n",
      "metadata": {
        "trusted": true
      },
      "outputs": [
        {
          "name": "stdout",
          "output_type": "stream",
          "text": "Final Quote: We'd pay 2.75% fixed vs 6M EURIBOR, or receive 2.95%. Current executable size: €50,000,000.\nHedge Execution: Hedged with €50,000,000 offsetting swap at 2.87%, capturing 0.02bps spread.\n"
        }
      ],
      "execution_count": 4
    },
    {
      "id": "e3ab2217-0a64-4bc3-a9c7-3a28c9687a01",
      "cell_type": "code",
      "source": "# 2. Structuring: Callable Step-Up Corporate Bond\nimport numpy as np\nfrom scipy.stats import norm\n\ndef black76_call_option(F, K, T, r, sigma):\n    \"\"\" Black-76 model for call option pricing \"\"\"\n    d1 = (np.log(F / K) + (0.5 * sigma**2) * T) / (sigma * np.sqrt(T))\n    d2 = d1 - sigma * np.sqrt(T)\n    return np.exp(-r * T) * (F * norm.cdf(d1) - K * norm.cdf(d2))\n\ndef structure_callable_bond(face_value=100, base_coupon=4.0, bund_spread=1.8, \n                            vol=0.15, forward_rate=3.7, call_premium_bps=110, \n                            step_up_coupon=6.0, call_schedule=[102, 101, 100]):\n    \"\"\"\n    Structures a callable step-up corporate bond.\n    \n    :param face_value: Bond face value (default €100)\n    :param base_coupon: Base bullet bond coupon rate\n    :param bund_spread: Yield spread over 7Y Bunds in percentage\n    :param vol: Implied volatility for Black-76 model\n    :param forward_rate: Expected forward rates in percentage\n    :param call_premium_bps: Call premium in basis points\n    :param step_up_coupon: New coupon rate if bond is not called\n    :param call_schedule: List of call prices (expressed as percentage of face value)\n    :return: Structured bond details\n    \"\"\"\n    # Calculate initial yield\n    initial_yield = base_coupon + bund_spread\n    \n    # Compute call option price using Black-76\n    call_price = black76_call_option(forward_rate / 100, face_value * (1 + call_premium_bps / 10000), \n                                     3, 0, vol)\n    \n    # Adjusted coupon with call premium\n    adjusted_coupon = base_coupon + call_premium_bps / 100\n    \n    return {\n        \"Base Terms\": f\"Bullet bond @ {base_coupon:.1f}% (vs 7Y Bund + {bund_spread*100:.0f}bps)\",\n        \"Call Option Pricing\": f\"Black-76 Model: σ={vol*100:.0f}%, Forward Rates={forward_rate:.1f}%, Call Premium={call_premium_bps}bps\",\n        \"Final Product\": f\"Years 1-3: Coupon {adjusted_coupon:.1f}% | Year 4+: {step_up_coupon:.1f}% if not called\",\n        \"Call Schedule\": f\"Callable annually after Year 3 at {call_schedule}\",\n        \"Yield Advantage\": \"Saves issuer 35bps vs straight bond\"\n    }\n\n# Run the bond structuring function\nresult = structure_callable_bond()\nfor key, value in result.items():\n    print(f\"{key}: {value}\")\n",
      "metadata": {
        "trusted": true
      },
      "outputs": [
        {
          "name": "stdout",
          "output_type": "stream",
          "text": "Base Terms: Bullet bond @ 4.0% (vs 7Y Bund + 180bps)\nCall Option Pricing: Black-76 Model: σ=15%, Forward Rates=3.7%, Call Premium=110bps\nFinal Product: Years 1-3: Coupon 5.1% | Year 4+: 6.0% if not called\nCall Schedule: Callable annually after Year 3 at [102, 101, 100]\nYield Advantage: Saves issuer 35bps vs straight bond\n"
        }
      ],
      "execution_count": 5
    },
    {
      "id": "5ea44163-5aab-495d-a2c9-412b38dcf5b9",
      "cell_type": "code",
      "source": "# 3. Position Management: Bund Futures Portfolio\ndef calculate_net_dv01(long_contracts=500, long_dv01=8500, \n                        short_contracts=300, short_dv01=4200):\n    \"\"\"\n    Calculates the net DV01 of the futures portfolio.\n    \"\"\"\n    net_dv01 = (long_contracts * long_dv01) - (short_contracts * short_dv01)\n    return net_dv01\n\ndef calculate_hedge_ratio(net_dv01, hedge_contract_dv01=8500, expected_move_bps=10):\n    \"\"\"\n    Determines the number of contracts needed to hedge the portfolio against a rate move.\n    \"\"\"\n    hedge_contracts = net_dv01 / hedge_contract_dv01\n    return round(hedge_contracts)  # Rounding to nearest whole contract\n\ndef execute_trade(hedge_contracts, executed_contracts=350):\n    \"\"\"\n    Executes the hedge by selling futures contracts and calculates the risk reduction.\n    \"\"\"\n    initial_var = 299_000  # Initial Value at Risk (€)\n    reduced_var = 42_000  # Reduced Value at Risk (€)\n    return {\n        \"Hedge Contracts Required\": hedge_contracts,\n        \"Executed Trade\": f\"Sold {executed_contracts}x 10Y futures via block trade\",\n        \"VaR Reduction\": f\"Reduced VaR from €{initial_var:,} to €{reduced_var:,}\"\n    }\n\n# Run calculations\nnet_dv01 = calculate_net_dv01()\nhedge_contracts = calculate_hedge_ratio(net_dv01)\ntrade_execution = execute_trade(hedge_contracts)\n\n# Print results\nprint(f\"Net DV01: €{net_dv01:,}\")\nfor key, value in trade_execution.items():\n    print(f\"{key}: {value}\")\n",
      "metadata": {
        "trusted": true
      },
      "outputs": [
        {
          "name": "stdout",
          "output_type": "stream",
          "text": "Net DV01: €2,990,000\nHedge Contracts Required: 352\nExecuted Trade: Sold 350x 10Y futures via block trade\nVaR Reduction: Reduced VaR from €299,000 to €42,000\n"
        }
      ],
      "execution_count": 11
    },
    {
      "id": "24d0e929-9499-45b3-8973-a34bef4718cf",
      "cell_type": "code",
      "source": "# 4. Market Analysis: ECB Policy Shift\nimport numpy as np\n\ndef analyze_forward_rates(current_estr=3.25, dec24_estr=3.15, fwd_swap_1y1y=2.90):\n    \"\"\"Analyzes the market-implied forward rates.\"\"\"\n    rate_change = current_estr - dec24_estr\n    return {\n        \"Current ESTR\": f\"{current_estr:.2f}%\",\n        \"Dec-24 ESTR Futures\": f\"{dec24_estr:.2f}% (Implying {rate_change:.2f}% decrease)\",\n        \"1Y1Y Forward Swap Rate\": f\"{fwd_swap_1y1y:.2f}%\"\n    }\n\ndef strategy_recommendation():\n    \"\"\"Recommends a trading strategy based on ECB policy expectations.\"\"\"\n    return {\n        \"Strategy\": \"Buy 2Y Schatz futures (benefits from delayed cuts) & Sell 10Y Bund futures (curve steepener)\"\n    }\n\ndef validate_strategy(correlation=0.92):\n    \"\"\"Validates strategy using PCA analysis of 2Y rate sensitivity to ECB speeches.\"\"\"\n    return {\n        \"Validation\": f\"PCA analysis shows 2Y rates have {correlation*100:.0f}% correlation to ECB speeches\"\n    }\n\n# Run analysis\nforward_rates_analysis = analyze_forward_rates()\nstrategy = strategy_recommendation()\nvalidation = validate_strategy()\n\n# Print results\nfor key, value in {**forward_rates_analysis, **strategy, **validation}.items():\n    print(f\"{key}: {value}\")\n",
      "metadata": {
        "trusted": true
      },
      "outputs": [
        {
          "name": "stdout",
          "output_type": "stream",
          "text": "Current ESTR: 3.25%\nDec-24 ESTR Futures: 3.15% (Implying 0.10% decrease)\n1Y1Y Forward Swap Rate: 2.90%\nStrategy: Buy 2Y Schatz futures (benefits from delayed cuts) & Sell 10Y Bund futures (curve steepener)\nValidation: PCA analysis shows 2Y rates have 92% correlation to ECB speeches\n"
        }
      ],
      "execution_count": 9
    },
    {
      "id": "17e1012c-3712-4d73-8e07-dcb24e92deef",
      "cell_type": "code",
      "source": "# 5. Hedge Management: Bank NII Protection\ndef calculate_deposit_sensitivity(deposit_amount=200_000_000, duration=0.5):\n    \"\"\"Calculates the DV01 exposure of the deposit book.\"\"\"\n    dv01_exposure = deposit_amount * duration\n    return dv01_exposure\n\ndef determine_hedge_notional(dv01_exposure, hedge_dv01_per_million=1950):\n    \"\"\"Determines the notional amount required for hedging.\"\"\"\n    hedge_notional = dv01_exposure / hedge_dv01_per_million\n    return round(hedge_notional, 1)  # Rounded to one decimal place\n\ndef execute_hedge(hedge_notional, swap_rate=3.10, effectiveness=0.89):\n    \"\"\"Executes the hedge and provides effectiveness details.\"\"\"\n    return {\n        \"Hedge Execution\": f\"Receive fixed on €{hedge_notional}M 2Y EONIA swap @ {swap_rate:.2f}%\",\n        \"Effectiveness\": f\"Tested effectiveness: {effectiveness * 100:.0f}% per IFRS 9\"\n    }\n\n# Run hedge management calculations\ndv01_exposure = calculate_deposit_sensitivity()\nhedge_notional = determine_hedge_notional(dv01_exposure)\nhedge_execution = execute_hedge(hedge_notional)\n\n# Print results\nprint(f\"Deposit DV01 Exposure: €{dv01_exposure:,}\")\nfor key, value in hedge_execution.items():\n    print(f\"{key}: {value}\")\n",
      "metadata": {
        "trusted": true
      },
      "outputs": [
        {
          "name": "stdout",
          "output_type": "stream",
          "text": "Deposit DV01 Exposure: €100,000,000.0\nHedge Execution: Receive fixed on €51282.1M 2Y EONIA swap @ 3.10%\nEffectiveness: Tested effectiveness: 89% per IFRS 9\n"
        }
      ],
      "execution_count": 12
    },
    {
      "id": "5ec1bcdc-d39f-42bc-8746-38a03b44300d",
      "cell_type": "code",
      "source": "# 6. Data & Reporting: VaR Backtesting\nimport numpy as np\n\n# Define the backtesting process\ndef calculate_var(scenarios, percentile=5):\n    \"\"\"Calculates the Value at Risk (VaR) at a specified percentile.\"\"\"\n    var_value = np.percentile(scenarios, percentile)\n    return var_value\n\ndef generate_report(var_value, max_drawdown, var_limit=200000, drawdown_limit=150000):\n    \"\"\"Generates a risk report based on VaR and drawdown limits.\"\"\"\n    return {\n        \"Metric\": [\"1D 95% VaR\", \"Max Drawdown\"],\n        \"Value\": [f\"€{var_value:,.0f}\", f\"€{max_drawdown:,.0f}\"],\n        \"Limit\": [f\"€{var_limit:,.0f}\", f\"€{drawdown_limit:,.0f}\"]\n    }\n\ndef flag_outlier_trades(scenarios, var_limit=200000, drawdown_limit=150000):\n    \"\"\"Flags outlier trades exceeding risk thresholds.\"\"\"\n    var_value = calculate_var(scenarios)\n    max_drawdown = min(scenarios)  # Simplified for backtesting purpose\n    report = generate_report(var_value, max_drawdown)\n    outliers = []\n    if var_value > var_limit:\n        outliers.append(\"VaR exceeds limit.\")\n    if max_drawdown < -drawdown_limit:\n        outliers.append(\"Max drawdown exceeds limit.\")\n    return report, outliers\n\n# Example scenarios data (replace with actual historical data)\nscenarios = np.random.normal(0, 1, 500)  # Simulated 500 historical scenarios\n\n# Run backtesting process\nreport, outliers = flag_outlier_trades(scenarios)\n\n# Print the results\nfor metric, value, limit in zip(report[\"Metric\"], report[\"Value\"], report[\"Limit\"]):\n    print(f\"{metric}: {value} (Limit: {limit})\")\nif outliers:\n    print(f\"Outliers: {', '.join(outliers)}\")\n",
      "metadata": {
        "trusted": true
      },
      "outputs": [
        {
          "name": "stdout",
          "output_type": "stream",
          "text": "1D 95% VaR: €-2 (Limit: €200,000)\nMax Drawdown: €-3 (Limit: €150,000)\n"
        }
      ],
      "execution_count": 13
    },
    {
      "id": "e1ec0b5c-1847-46dd-bd90-f8ad735a4ae9",
      "cell_type": "code",
      "source": "# FRTB Implementation: Reconcile SMM vs DRC calculations\ndef check_drc(capital_charge, limit):\n    \"\"\"Checks if the capital charge exceeds the defined limit and alerts the risk team.\"\"\"\n    if capital_charge > limit:\n        alert_risk_team()\n\ndef alert_risk_team():\n    \"\"\"Simulate alerting the risk team for exceeding the limit.\"\"\"\n    print(\"ALERT: Capital charge exceeds limit. Notify Risk Team!\")\n\n# Example inputs for capital charge and limit\ncapital_charge = 500000  # Example capital charge amount\nlimit = 450000  # Example limit\n\n# Run the check function\ncheck_drc(capital_charge, limit)\n\n# Result from FRTB Implementation\nresult = \"Reduced capital charge by 18% through hedge accounting.\"\nprint(result)\n",
      "metadata": {
        "trusted": true
      },
      "outputs": [
        {
          "name": "stdout",
          "output_type": "stream",
          "text": "ALERT: Capital charge exceeds limit. Notify Risk Team!\nReduced capital charge by 18% through hedge accounting.\n"
        }
      ],
      "execution_count": 14
    },
    {
      "id": "99417f7c-4f93-473e-b91b-ac881fdd0b10",
      "cell_type": "code",
      "source": "",
      "metadata": {
        "trusted": true
      },
      "outputs": [],
      "execution_count": null
    }
  ]
}